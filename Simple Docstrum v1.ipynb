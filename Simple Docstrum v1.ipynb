{
 "cells": [
  {
   "cell_type": "code",
   "execution_count": 2,
   "metadata": {},
   "outputs": [
    {
     "name": "stderr",
     "output_type": "stream",
     "text": [
      "Invalid: Command: #r D:\\VS2017\\source\\repos\\BobLd\\PdfPig\\src\\UglyToad.PdfPig.DocumentLayoutAnalysis\\bin\\Debug\\netstandard2.0\\UglyToad.PdfPig.dllInvalid: Command: #r D:\\VS2017\\source\\repos\\BobLd\\PdfPig\\src\\UglyToad.PdfPig.DocumentLayoutAnalysis\\bin\\Debug\\netstandard2.0\\UglyToad.PdfPig.Core.dllInvalid: Command: #r D:\\VS2017\\source\\repos\\BobLd\\PdfPig\\src\\UglyToad.PdfPig.DocumentLayoutAnalysis\\bin\\Debug\\netstandard2.0\\UglyToad.PdfPig.Tokens.dllInvalid: Command: #r D:\\VS2017\\source\\repos\\BobLd\\PdfPig\\src\\UglyToad.PdfPig.DocumentLayoutAnalysis\\bin\\Debug\\netstandard2.0\\UglyToad.PdfPig.Tokenization.dllInvalid: Command: #r D:\\VS2017\\source\\repos\\BobLd\\PdfPig\\src\\UglyToad.PdfPig.DocumentLayoutAnalysis\\bin\\Debug\\netstandard2.0\\UglyToad.PdfPig.Fonts.dllInvalid: Command: #r D:\\VS2017\\source\\repos\\BobLd\\PdfPig\\src\\UglyToad.PdfPig.DocumentLayoutAnalysis\\bin\\Debug\\netstandard2.0\\UglyToad.PdfPig.DocumentLayoutAnalysis.dll"
     ]
    }
   ],
   "source": [
    "//#r \"nuget:PdfPig\"\n",
    "#r \"D:\\VS2017\\source\\repos\\BobLd\\PdfPig\\src\\UglyToad.PdfPig.DocumentLayoutAnalysis\\bin\\Debug\\netstandard2.0\\UglyToad.PdfPig.dll\"\n",
    "#r \"D:\\VS2017\\source\\repos\\BobLd\\PdfPig\\src\\UglyToad.PdfPig.DocumentLayoutAnalysis\\bin\\Debug\\netstandard2.0\\UglyToad.PdfPig.Core.dll\"\n",
    "#r \"D:\\VS2017\\source\\repos\\BobLd\\PdfPig\\src\\UglyToad.PdfPig.DocumentLayoutAnalysis\\bin\\Debug\\netstandard2.0\\UglyToad.PdfPig.Tokens.dll\"\n",
    "#r \"D:\\VS2017\\source\\repos\\BobLd\\PdfPig\\src\\UglyToad.PdfPig.DocumentLayoutAnalysis\\bin\\Debug\\netstandard2.0\\UglyToad.PdfPig.Tokenization.dll\"\n",
    "#r \"D:\\VS2017\\source\\repos\\BobLd\\PdfPig\\src\\UglyToad.PdfPig.DocumentLayoutAnalysis\\bin\\Debug\\netstandard2.0\\UglyToad.PdfPig.Fonts.dll\"\n",
    "#r \"D:\\VS2017\\source\\repos\\BobLd\\PdfPig\\src\\UglyToad.PdfPig.DocumentLayoutAnalysis\\bin\\Debug\\netstandard2.0\\UglyToad.PdfPig.DocumentLayoutAnalysis.dll\"\n",
    "    \n",
    "using UglyToad.PdfPig;\n",
    "using UglyToad.PdfPig.Content;\n",
    "using UglyToad.PdfPig.Core;\n",
    "using UglyToad.PdfPig.DocumentLayoutAnalysis;\n",
    "using UglyToad.PdfPig.DocumentLayoutAnalysis.WordExtractor;\n",
    "using XPlot.Plotly;\n",
    "using System.IO;\n",
    "using System.Linq;"
   ]
  },
  {
   "cell_type": "markdown",
   "metadata": {},
   "source": [
    "## Sources\n",
    "- [_The Document Spectrum for Page Layout Analysis_](https://ieeexplore.ieee.org/document/244677), Lawrence O’Gorman\n",
    "- https://inside.mines.edu/~whoff/courses/EENG510/projects/2015/Hoch.pdf\n",
    "\n",
    "\n",
    "- https://github.com/UglyToad/PdfPig\n",
    "- https://devblogs.microsoft.com/cesardelatorre/using-ml-net-in-jupyter-notebooks/\n",
    "\n",
    "## Steps\n",
    "0. Open pdf document, extract words and preprocess\n",
    "1. Estimate within-line and between-line spacing\n",
    "2. Get lines\n",
    "3. Get Paragraphs"
   ]
  },
  {
   "cell_type": "code",
   "execution_count": 5,
   "metadata": {},
   "outputs": [],
   "source": [
    "string pdfName = \"Random 2 Columns Lists Hyph.pdf\";\n",
    "//string pdfName = \"Random 2 Columns Lists Hyph - Justified.pdf\";\n",
    "int pageNo = 1;\n",
    "\n",
    "List<Word> wordsRaw = new List<Word>();\n",
    "double width = 0;\n",
    "double height = 0;\n",
    "\n",
    "using (PdfDocument document = PdfDocument.Open(pdfName))\n",
    "{\n",
    "    var page = document.GetPage(pageNo);\n",
    "    width = page.Width;\n",
    "    height = page.Height;\n",
    "    wordsRaw = page.GetWords(NearestNeighbourWordExtractor.Instance).ToList();\n",
    "}\n",
    "\n",
    "var words = new List<Word>();\n",
    "// only keep non space words\n",
    "foreach (var word in wordsRaw)\n",
    "{\n",
    "    if (string.IsNullOrWhiteSpace(word.Text.Trim())) continue;\n",
    "    words.Add(word);\n",
    "}"
   ]
  },
  {
   "cell_type": "code",
   "execution_count": null,
   "metadata": {},
   "outputs": [],
   "source": []
  }
 ],
 "metadata": {
  "kernelspec": {
   "display_name": ".NET (C#)",
   "language": "C#",
   "name": ".net-csharp"
  },
  "language_info": {
   "file_extension": ".cs",
   "mimetype": "text/x-csharp",
   "name": "C#",
   "pygments_lexer": "csharp",
   "version": "8.0"
  }
 },
 "nbformat": 4,
 "nbformat_minor": 4
}
